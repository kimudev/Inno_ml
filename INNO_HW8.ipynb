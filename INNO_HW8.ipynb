{
  "nbformat": 4,
  "nbformat_minor": 0,
  "metadata": {
    "colab": {
      "provenance": []
    },
    "kernelspec": {
      "name": "python3",
      "display_name": "Python 3"
    },
    "language_info": {
      "name": "python"
    }
  },
  "cells": [
    {
      "cell_type": "markdown",
      "source": [
        "### Задача 1."
      ],
      "metadata": {
        "id": "Cls6kE9c0fw9"
      }
    },
    {
      "cell_type": "code",
      "execution_count": null,
      "metadata": {
        "colab": {
          "base_uri": "https://localhost:8080/"
        },
        "id": "8VRpGnxE0YZy",
        "outputId": "cf14ac0d-9de8-4d4c-84ed-ba607e24e07f"
      },
      "outputs": [
        {
          "output_type": "stream",
          "name": "stdout",
          "text": [
            "Введите список элементов через запятую: 1, 2, 3, 4, 5\n",
            "Список содержит хотя бы одно положительное число? Да\n",
            "Все элементы списка являются числами? Да\n",
            "Отсортированный список чисел: [1.0, 2.0, 3.0, 4.0, 5.0]\n"
          ]
        }
      ],
      "source": [
        "# Ввод списка от пользователя\n",
        "user_input = input(\"Введите список элементов через запятую: \")\n",
        "\n",
        "input_list = [x.strip() for x in user_input.split(',')]\n",
        "\n",
        "def to_number(item):\n",
        "    try:\n",
        "        return float(item)\n",
        "    except ValueError:\n",
        "        return item\n",
        "\n",
        "converted_list = [to_number(x) for x in input_list]\n",
        "\n",
        "# 1. Проверка: содержит ли список хотя бы одно положительное число\n",
        "has_positive = any(isinstance(x, (int, float)) and x > 0 for x in converted_list)\n",
        "\n",
        "# 2. Проверка: все ли элементы списка являются числами\n",
        "all_numbers = all(isinstance(x, (int, float)) for x in converted_list)\n",
        "\n",
        "# 3. Сортировка списка (для сортировки оставляем только числа, остальные элементы игнорируем)\n",
        "sorted_list = sorted(x for x in converted_list if isinstance(x, (int, float)))\n",
        "\n",
        "print(f\"Список содержит хотя бы одно положительное число? {'Да' if has_positive else 'Нет'}\")\n",
        "print(f\"Все элементы списка являются числами? {'Да' if all_numbers else 'Нет'}\")\n",
        "print(f\"Отсортированный список чисел: {sorted_list}\")"
      ]
    },
    {
      "cell_type": "markdown",
      "source": [
        "###Задача 2."
      ],
      "metadata": {
        "id": "R11voby71QTx"
      }
    },
    {
      "cell_type": "code",
      "source": [
        "class CyclicIterator:\n",
        "    def __init__(self, iterable):\n",
        "        if not hasattr(iterable, '__iter__'):\n",
        "            raise ValueError(\"Объект должен быть итерируемым.\")\n",
        "        self.iterable = iterable\n",
        "        self.iterator = iter(iterable)\n",
        "\n",
        "    def __iter__(self):\n",
        "        return self\n",
        "\n",
        "    def __next__(self):\n",
        "        try:\n",
        "            return next(self.iterator)\n",
        "        except StopIteration:\n",
        "            self.iterator = iter(self.iterable)\n",
        "            return next(self.iterator)\n",
        "\n",
        "\n",
        "\n",
        "if __name__ == \"__main__\":\n",
        "    cyclic_list = CyclicIterator([1, 2, 3])\n",
        "\n",
        "    print(\"Первые 10 элементов циклического итератора:\")\n",
        "    for i, element in zip(range(10), cyclic_list):\n",
        "        print(element)"
      ],
      "metadata": {
        "colab": {
          "base_uri": "https://localhost:8080/"
        },
        "id": "a2u9lnc40x06",
        "outputId": "c10c1620-76ec-4354-a93f-ca0a7307e889"
      },
      "execution_count": null,
      "outputs": [
        {
          "output_type": "stream",
          "name": "stdout",
          "text": [
            "Первые 10 элементов циклического итератора:\n",
            "1\n",
            "2\n",
            "3\n",
            "1\n",
            "2\n",
            "3\n",
            "1\n",
            "2\n",
            "3\n",
            "1\n"
          ]
        }
      ]
    },
    {
      "cell_type": "markdown",
      "source": [
        "###Задача 3.\n"
      ],
      "metadata": {
        "id": "C0lwjSJU1VFY"
      }
    },
    {
      "cell_type": "code",
      "source": [
        "import random\n",
        "from string import ascii_lowercase, ascii_uppercase\n",
        "\n",
        "# Определение символов для генерации паролей\n",
        "chars = ascii_lowercase + ascii_uppercase + \"0123456789!?@#$*\"\n",
        "\n",
        "def password_generator():\n",
        "    while True:\n",
        "        yield ''.join(random.choice(chars) for _ in range(12))\n",
        "\n",
        "if __name__ == \"__main__\":\n",
        "    generator = password_generator()\n",
        "\n",
        "    print(\"Первые пять сгенерированных паролей:\")\n",
        "    for _ in range(5):\n",
        "        print(next(generator))"
      ],
      "metadata": {
        "colab": {
          "base_uri": "https://localhost:8080/"
        },
        "id": "Con95h3k1iLS",
        "outputId": "29c42273-bf69-4339-b497-81f87b80a436"
      },
      "execution_count": null,
      "outputs": [
        {
          "output_type": "stream",
          "name": "stdout",
          "text": [
            "Первые пять сгенерированных паролей:\n",
            "lF9kF@pjvLu?\n",
            "fOVYKNwGGCbg\n",
            "K?96k*RoG!su\n",
            "?xIBNiYPch?@\n",
            "XCAUlod3bCZw\n"
          ]
        }
      ]
    },
    {
      "cell_type": "markdown",
      "source": [
        "###Задача 4."
      ],
      "metadata": {
        "id": "sKuCop9d15PE"
      }
    },
    {
      "cell_type": "code",
      "source": [
        "from datetime import datetime, timedelta\n",
        "\n",
        "class Movie:\n",
        "    def __init__(self, title, schedule_periods):\n",
        "        \"\"\"\n",
        "        Инициализация фильма.\n",
        "        :param title: Название фильма (строка).\n",
        "        :param schedule_periods: Список пар дат [(start_date, end_date), ...],\n",
        "                                 где каждая пара указывает период проката.\n",
        "        \"\"\"\n",
        "        self.title = title\n",
        "        self.schedule_periods = schedule_periods\n",
        "\n",
        "    def schedule(self):\n",
        "        \"\"\"\n",
        "        Генератор, который возвращает все дни, в которые фильм показывают.\n",
        "        \"\"\"\n",
        "        for start_date, end_date in self.schedule_periods:\n",
        "            current_date = start_date\n",
        "            while current_date <= end_date:\n",
        "                yield current_date\n",
        "                current_date += timedelta(days=1)\n",
        "\n",
        "if __name__ == \"__main__\":\n",
        "    # Определяем расписание проката фильма\n",
        "    movie_schedule = [\n",
        "        (datetime(2024, 11, 1), datetime(2024, 11, 7)),\n",
        "        (datetime(2024, 12, 15), datetime(2024, 12, 31)),\n",
        "    ]\n",
        "\n",
        "    movie = Movie(\"The Great Adventure\", movie_schedule)\n",
        "\n",
        "    print(f\"Расписание фильма '{movie.title}':\")\n",
        "    for day in movie.schedule():\n",
        "        print(day.strftime(\"%Y-%m-%d %H:%M:%S\"))"
      ],
      "metadata": {
        "colab": {
          "base_uri": "https://localhost:8080/"
        },
        "id": "SunUbWZ118LB",
        "outputId": "a06b89f8-4432-4b33-bca2-3a6767fbb9e1"
      },
      "execution_count": null,
      "outputs": [
        {
          "output_type": "stream",
          "name": "stdout",
          "text": [
            "Расписание фильма 'The Great Adventure':\n",
            "2024-11-01 00:00:00\n",
            "2024-11-02 00:00:00\n",
            "2024-11-03 00:00:00\n",
            "2024-11-04 00:00:00\n",
            "2024-11-05 00:00:00\n",
            "2024-11-06 00:00:00\n",
            "2024-11-07 00:00:00\n",
            "2024-12-15 00:00:00\n",
            "2024-12-16 00:00:00\n",
            "2024-12-17 00:00:00\n",
            "2024-12-18 00:00:00\n",
            "2024-12-19 00:00:00\n",
            "2024-12-20 00:00:00\n",
            "2024-12-21 00:00:00\n",
            "2024-12-22 00:00:00\n",
            "2024-12-23 00:00:00\n",
            "2024-12-24 00:00:00\n",
            "2024-12-25 00:00:00\n",
            "2024-12-26 00:00:00\n",
            "2024-12-27 00:00:00\n",
            "2024-12-28 00:00:00\n",
            "2024-12-29 00:00:00\n",
            "2024-12-30 00:00:00\n",
            "2024-12-31 00:00:00\n"
          ]
        }
      ]
    }
  ]
}