{
  "nbformat": 4,
  "nbformat_minor": 0,
  "metadata": {
    "colab": {
      "provenance": []
    },
    "kernelspec": {
      "name": "python3",
      "display_name": "Python 3"
    },
    "language_info": {
      "name": "python"
    }
  },
  "cells": [
    {
      "cell_type": "markdown",
      "source": [
        "###Задача 1."
      ],
      "metadata": {
        "id": "9VkVlkZb2_FH"
      }
    },
    {
      "cell_type": "code",
      "execution_count": null,
      "metadata": {
        "colab": {
          "base_uri": "https://localhost:8080/"
        },
        "id": "-QZUN3dZ2o51",
        "outputId": "a9ff7b99-3901-4e40-d116-c5159c47f63c"
      },
      "outputs": [
        {
          "output_type": "stream",
          "name": "stdout",
          "text": [
            "Введите названия городов через пробел: Омск Казань NY Москва SP LA Тула\n",
            "Города с длиной не менее трех символов:\n",
            "['Омск', 'Казань', 'Москва', 'Тула']\n"
          ]
        }
      ],
      "source": [
        "from itertools import filterfalse\n",
        "\n",
        "# Функция для фильтрации городов\n",
        "def city_filter(city_name):\n",
        "    \"\"\"\n",
        "    Возвращает True, если длина строки >= 3.\n",
        "    Возвращает False, если длина строки < 3.\n",
        "    \"\"\"\n",
        "    return len(city_name) >= 3\n",
        "\n",
        "# Чтение списка городов от пользователя\n",
        "input_data = input(\"Введите названия городов через пробел: \")\n",
        "\n",
        "# Разделяем строку на список городов\n",
        "cities = input_data.split()\n",
        "\n",
        "# Используем filter для фильтрации городов длиной менее 3 символов\n",
        "filtered_cities = filter(city_filter, cities)\n",
        "\n",
        "# Преобразуем отфильтрованные данные в список и выводим результат\n",
        "print(\"Города с длиной не менее трех символов:\")\n",
        "print(list(filtered_cities))"
      ]
    },
    {
      "cell_type": "markdown",
      "source": [
        "###Задача 2."
      ],
      "metadata": {
        "id": "o0LJjjPn3Hg6"
      }
    },
    {
      "cell_type": "code",
      "source": [
        "# 1. Функция, которая принимает строку из целых чисел и возвращает список чисел\n",
        "def get_list(input_string):\n",
        "    return list(map(int, input_string.split()))\n",
        "\n",
        "# 2. Функция, которая принимает другую функцию (например, get_list), вызывает ее и сортирует результат\n",
        "def sort_func(func):\n",
        "    def wrapper(input_string):\n",
        "        # Вызываем переданную функцию (get_list)\n",
        "        result = func(input_string)\n",
        "        # Сортируем результат\n",
        "        return sorted(result)\n",
        "    return wrapper\n",
        "\n",
        "# 3. Используем декоратор, чтобы получить отсортированный список\n",
        "@sort_func\n",
        "def get_sorted_list(input_string):\n",
        "    return get_list(input_string)\n",
        "\n",
        "# Пример использования:\n",
        "if __name__ == \"__main__\":\n",
        "    # Вводим строку чисел через пробел\n",
        "    input_string = input(\"Введите числа через пробел: \")\n",
        "\n",
        "    # Выводим отсортированный список\n",
        "    print(\"Отсортированный список:\", get_sorted_list(input_string))"
      ],
      "metadata": {
        "colab": {
          "base_uri": "https://localhost:8080/"
        },
        "id": "azMAUCil3K-k",
        "outputId": "b4d31b0c-fb1e-4407-ea97-212ec1161fe4"
      },
      "execution_count": null,
      "outputs": [
        {
          "output_type": "stream",
          "name": "stdout",
          "text": [
            "Введите числа через пробел: 10 5 3 8 2\n",
            "Отсортированный список: [2, 3, 5, 8, 10]\n"
          ]
        }
      ]
    },
    {
      "cell_type": "markdown",
      "source": [
        "###Задача 3."
      ],
      "metadata": {
        "id": "Aq9ZiF2w3l-I"
      }
    },
    {
      "cell_type": "code",
      "source": [
        "import itertools\n",
        "\n",
        "# Функция для генерации перестановок\n",
        "def string_permutations(s, n):\n",
        "    # Генерируем все перестановки длины n\n",
        "    permutations = itertools.permutations(s, n)\n",
        "\n",
        "    # Преобразуем перестановки в строки и сортируем в лексикографическом порядке\n",
        "    sorted_permutations = sorted(''.join(p) for p in permutations)\n",
        "\n",
        "    return sorted_permutations\n",
        "\n",
        "# Пример использования\n",
        "if __name__ == \"__main__\":\n",
        "    s = input(\"Введите строку: \")\n",
        "    n = int(input(\"Введите число n (длина перестановок): \"))\n",
        "\n",
        "    # Получаем и выводим перестановки\n",
        "    result = string_permutations(s, n)\n",
        "    for perm in result:\n",
        "        print(perm)"
      ],
      "metadata": {
        "colab": {
          "base_uri": "https://localhost:8080/"
        },
        "id": "77HxHiR83aZj",
        "outputId": "b4cc72a1-d41c-463b-ef02-3bdf1a08e79b"
      },
      "execution_count": null,
      "outputs": [
        {
          "output_type": "stream",
          "name": "stdout",
          "text": [
            "Введите строку: abc\n",
            "Введите число n (длина перестановок): 2\n",
            "ab\n",
            "ac\n",
            "ba\n",
            "bc\n",
            "ca\n",
            "cb\n"
          ]
        }
      ]
    },
    {
      "cell_type": "markdown",
      "source": [
        "###Задача 4."
      ],
      "metadata": {
        "id": "LqWS3onE3yJp"
      }
    },
    {
      "cell_type": "code",
      "source": [
        "import itertools\n",
        "\n",
        "# Функция для генерации комбинаций\n",
        "def get_combinations(s, k):\n",
        "    # Генерируем все комбинации длиной от 1 до k\n",
        "    all_combinations = []\n",
        "    for i in range(1, k + 1):\n",
        "        combinations = itertools.combinations(s, i)\n",
        "        all_combinations.extend([''.join(comb) for comb in combinations])\n",
        "\n",
        "    return all_combinations\n",
        "\n",
        "# Пример использования\n",
        "if __name__ == \"__main__\":\n",
        "    s = input(\"Введите строку: \")\n",
        "    k = int(input(\"Введите число k (максимальная длина комбинаций): \"))\n",
        "\n",
        "    # Получаем и выводим комбинации\n",
        "    result = get_combinations(s, k)\n",
        "    for comb in result:\n",
        "        print(comb)"
      ],
      "metadata": {
        "colab": {
          "base_uri": "https://localhost:8080/"
        },
        "id": "0GR1okba3xhi",
        "outputId": "4e9a41eb-59d8-4061-e07f-cac201f4bd52"
      },
      "execution_count": null,
      "outputs": [
        {
          "output_type": "stream",
          "name": "stdout",
          "text": [
            "Введите строку: abc\n",
            "Введите число k (максимальная длина комбинаций): 2\n",
            "a\n",
            "b\n",
            "c\n",
            "ab\n",
            "ac\n",
            "bc\n"
          ]
        }
      ]
    },
    {
      "cell_type": "markdown",
      "source": [
        "###Задача 5."
      ],
      "metadata": {
        "id": "DQIrHxpo4Eck"
      }
    },
    {
      "cell_type": "code",
      "source": [
        "import functools\n",
        "\n",
        "# Функция для сортировки пользователей по возрасту\n",
        "def sort_users_by_age(users, reverse=False):\n",
        "    return sorted(users, key=lambda user: user['age'], reverse=reverse)\n",
        "\n",
        "# Создаем частичные функции для сортировки по возрастанию и по убыванию\n",
        "sort_by_age_asc = functools.partial(sort_users_by_age, reverse=False)\n",
        "sort_by_age_desc = functools.partial(sort_users_by_age, reverse=True)\n",
        "\n",
        "# Пример использования\n",
        "if __name__ == \"__main__\":\n",
        "    # Пример списка пользователей\n",
        "    users = [\n",
        "        {\"name\": \"Alice\", \"age\": 30},\n",
        "        {\"name\": \"Bob\", \"age\": 25},\n",
        "        {\"name\": \"Charlie\", \"age\": 35},\n",
        "        {\"name\": \"David\", \"age\": 20}\n",
        "    ]\n",
        "\n",
        "    # Сортировка по возрастанию\n",
        "    sorted_users_asc = sort_by_age_asc(users)\n",
        "    print(\"Сортировка по возрасту (по возрастанию):\")\n",
        "    for user in sorted_users_asc:\n",
        "        print(user)\n",
        "\n",
        "    # Сортировка по убыванию\n",
        "    sorted_users_desc = sort_by_age_desc(users)\n",
        "    print(\"\\nСортировка по возрасту (по убыванию):\")\n",
        "    for user in sorted_users_desc:\n",
        "        print(user)"
      ],
      "metadata": {
        "colab": {
          "base_uri": "https://localhost:8080/"
        },
        "id": "SbX71SMe4Dxy",
        "outputId": "b904e34b-c573-48fb-d1c0-5f88225ca265"
      },
      "execution_count": null,
      "outputs": [
        {
          "output_type": "stream",
          "name": "stdout",
          "text": [
            "Сортировка по возрасту (по возрастанию):\n",
            "{'name': 'David', 'age': 20}\n",
            "{'name': 'Bob', 'age': 25}\n",
            "{'name': 'Alice', 'age': 30}\n",
            "{'name': 'Charlie', 'age': 35}\n",
            "\n",
            "Сортировка по возрасту (по убыванию):\n",
            "{'name': 'Charlie', 'age': 35}\n",
            "{'name': 'Alice', 'age': 30}\n",
            "{'name': 'Bob', 'age': 25}\n",
            "{'name': 'David', 'age': 20}\n"
          ]
        }
      ]
    }
  ]
}