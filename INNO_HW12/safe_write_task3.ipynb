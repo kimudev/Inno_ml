{
 "cells": [
  {
   "cell_type": "markdown",
   "id": "bdd478ca",
   "metadata": {},
   "source": [
    "# Задача 3. Реализация контекстного менеджера `safe_write`"
   ]
  },
  {
   "cell_type": "code",
   "execution_count": 1,
   "id": "c088fcdc",
   "metadata": {},
   "outputs": [],
   "source": [
    "\"\"\"\n",
    "Контекстный менеджер для безопасной записи данных в файл.\n",
    "При возникновении исключения во время записи:\n",
    "1. Все изменения откатываются, файл возвращается в исходное состояние.\n",
    "2. Исключение подавляется, и выводится сообщение с указанием типа исключения.\n",
    "\"\"\"\n",
    "import os\n",
    "\n",
    "class safe_write:\n",
    "    def __init__(self, filename: str):\n",
    "        self.filename = filename\n",
    "        self.temp_filename = f\"{filename}.tmp\"\n",
    "\n",
    "    def __enter__(self):\n",
    "        # Создаём временный файл для записи\n",
    "        self.original_exists = os.path.exists(self.filename)\n",
    "        if self.original_exists:\n",
    "            # Сохраняем оригинальные данные во временный файл\n",
    "            with open(self.filename, \"r\") as original_file, open(self.temp_filename, \"w\") as temp_file:\n",
    "                temp_file.write(original_file.read())\n",
    "        return open(self.filename, \"w\")\n",
    "\n",
    "    def __exit__(self, exc_type, exc_value, traceback):\n",
    "        # Закрываем файл (если он был открыт)\n",
    "        if exc_type is not None:\n",
    "            # Возвращаем оригинальное состояние файла\n",
    "            if self.original_exists:\n",
    "                with open(self.temp_filename, \"r\") as temp_file, open(self.filename, \"w\") as original_file:\n",
    "                    original_file.write(temp_file.read())\n",
    "            else:\n",
    "                os.remove(self.filename)  # Удаляем файл, если его не было до записи\n",
    "            print(f\"Во время записи в файл было возбуждено исключение {exc_type.__name__}\")\n",
    "            return True  # Подавляем исключение\n",
    "        # Удаляем временный файл, если ошибок не возникло\n",
    "        if os.path.exists(self.temp_filename):\n",
    "            os.remove(self.temp_filename)\n",
    "        return False"
   ]
  },
  {
   "cell_type": "markdown",
   "id": "052327e6",
   "metadata": {},
   "source": [
    "# Пример использования контекстного менеджера `safe_write`"
   ]
  },
  {
   "cell_type": "code",
   "execution_count": 2,
   "id": "b279d403",
   "metadata": {},
   "outputs": [
    {
     "name": "stdout",
     "output_type": "stream",
     "text": [
      "Я знаю, что ничего не знаю, но другие не знают и этого.\n"
     ]
    }
   ],
   "source": [
    "# Пример 1: Успешная запись\n",
    "with safe_write(\"undertale.txt\") as file:\n",
    "    file.write(\"Я знаю, что ничего не знаю, но другие не знают и этого.\")\n",
    "\n",
    "with open(\"undertale.txt\") as file:\n",
    "    print(file.read())  # Ожидаемый вывод: Я знаю, что ничего не знаю, но другие не знают и этого."
   ]
  },
  {
   "cell_type": "code",
   "execution_count": 3,
   "id": "9659b123",
   "metadata": {},
   "outputs": [
    {
     "name": "stdout",
     "output_type": "stream",
     "text": [
      "Во время записи в файл было возбуждено исключение ValueError\n",
      "\n"
     ]
    }
   ],
   "source": [
    "# Пример 2: Исключение во время записи\n",
    "try:\n",
    "    with safe_write(\"under_tale.txt\") as file:\n",
    "        file.write(\"Я знаю, что ничего не знаю, но другие не знают и этого.\\n\")\n",
    "    with safe_write(\"under_tale.txt\") as file:\n",
    "        print(\"Если ты будешь любознательным, то будешь много знающим.\", file=file, flush=True)\n",
    "        raise ValueError  # Принудительно возбуждаем исключение\n",
    "except Exception as e:\n",
    "    pass\n",
    "\n",
    "with open(\"under_tale.txt\") as file:\n",
    "    print(file.read())  # Ожидаемый вывод:\n",
    "    # Во время записи в файл было возбуждено исключение ValueError\n",
    "    # Я знаю, что ничего не знаю, но другие не знают и этого."
   ]
  }
 ],
 "metadata": {
  "kernelspec": {
   "display_name": "Python 3",
   "language": "python",
   "name": "python3"
  },
  "language_info": {
   "codemirror_mode": {
    "name": "ipython",
    "version": 3
   },
   "file_extension": ".py",
   "mimetype": "text/x-python",
   "name": "python",
   "nbconvert_exporter": "python",
   "pygments_lexer": "ipython3",
   "version": "3.13.0"
  }
 },
 "nbformat": 4,
 "nbformat_minor": 5
}
