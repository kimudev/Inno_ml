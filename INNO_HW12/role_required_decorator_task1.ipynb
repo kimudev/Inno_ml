{
 "cells": [
  {
   "cell_type": "markdown",
   "id": "0c345c56",
   "metadata": {},
   "source": [
    "# Задача 1"
   ]
  },
  {
   "cell_type": "code",
   "execution_count": 1,
   "id": "2c4df962",
   "metadata": {},
   "outputs": [],
   "source": [
    "import functools"
   ]
  },
  {
   "cell_type": "markdown",
   "id": "deeae58a",
   "metadata": {},
   "source": [
    "# Объявление глобальной переменной для роли пользователя"
   ]
  },
  {
   "cell_type": "code",
   "execution_count": 2,
   "id": "202678fe",
   "metadata": {},
   "outputs": [],
   "source": [
    "user_role = \"\"  # Роль будет задаваться динамически"
   ]
  },
  {
   "cell_type": "markdown",
   "id": "41145463",
   "metadata": {},
   "source": [
    "# Реализация декоратора `role_required`"
   ]
  },
  {
   "cell_type": "code",
   "execution_count": 3,
   "id": "c6ca65db",
   "metadata": {},
   "outputs": [],
   "source": [
    "\"\"\"\n",
    "Декоратор для проверки роли пользователя перед вызовом функции.\n",
    "Если пользователь имеет нужную роль, доступ к функции разрешается.\n",
    "Иначе возвращается 'Permission denied'.\n",
    "\"\"\"\n",
    "def role_required(role: str):\n",
    "    def decorator(func):\n",
    "        @functools.wraps(func)\n",
    "        def wrapper(*args, **kwargs):\n",
    "            if user_role == role:\n",
    "                return func(*args, **kwargs)\n",
    "            else:\n",
    "                return \"Permission denied\"\n",
    "        return wrapper\n",
    "    return decorator"
   ]
  },
  {
   "cell_type": "markdown",
   "id": "56aa2b2c",
   "metadata": {},
   "source": [
    "# Определение защищённого ресурса"
   ]
  },
  {
   "cell_type": "code",
   "execution_count": 4,
   "id": "8c84c2c8",
   "metadata": {},
   "outputs": [],
   "source": [
    "@role_required(\"admin\")\n",
    "def secret_resource() -> str:\n",
    "    return \"Permission accepted\""
   ]
  },
  {
   "cell_type": "markdown",
   "id": "d298c3c6",
   "metadata": {},
   "source": [
    "# Пример тестирования функции"
   ]
  },
  {
   "cell_type": "code",
   "execution_count": 5,
   "id": "89408652",
   "metadata": {},
   "outputs": [],
   "source": [
    "\"\"\"\n",
    "Функция тестирует доступ к защищённому ресурсу для пользователей с разными ролями.\n",
    "Тест 1: Пользователь с ролью admin (ожидаемый результат: Permission accepted)\n",
    "Тест 2: Пользователь с ролью manager (ожидаемый результат: Permission denied)\n",
    "\"\"\"\n",
    "def test_secret_resource():\n",
    "    global user_role\n",
    "\n",
    "    # Тест 1: Пользователь с ролью admin\n",
    "    user_role = \"admin\"\n",
    "    print(f\"Вход: {user_role}\")\n",
    "    print(secret_resource())  # Ожидаемый результат: Permission accepted\n",
    "\n",
    "    # Тест 2: Пользователь с ролью manager\n",
    "    user_role = \"manager\"\n",
    "    print(f\"\\nВход: {user_role}\")\n",
    "    print(secret_resource())  # Ожидаемый результат: Permission denied"
   ]
  },
  {
   "cell_type": "markdown",
   "id": "5706d1da",
   "metadata": {},
   "source": [
    "# Запуск тестов"
   ]
  },
  {
   "cell_type": "code",
   "execution_count": 6,
   "id": "fc29081d",
   "metadata": {},
   "outputs": [
    {
     "name": "stdout",
     "output_type": "stream",
     "text": [
      "Вход: admin\n",
      "Permission accepted\n",
      "\n",
      "Вход: manager\n",
      "Permission denied\n"
     ]
    }
   ],
   "source": [
    "test_secret_resource()"
   ]
  }
 ],
 "metadata": {
  "kernelspec": {
   "display_name": "Python 3",
   "language": "python",
   "name": "python3"
  },
  "language_info": {
   "codemirror_mode": {
    "name": "ipython",
    "version": 3
   },
   "file_extension": ".py",
   "mimetype": "text/x-python",
   "name": "python",
   "nbconvert_exporter": "python",
   "pygments_lexer": "ipython3",
   "version": "3.13.0"
  }
 },
 "nbformat": 4,
 "nbformat_minor": 5
}
