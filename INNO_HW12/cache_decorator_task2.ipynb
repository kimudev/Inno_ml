{
 "cells": [
  {
   "cell_type": "markdown",
   "id": "e1951d91",
   "metadata": {},
   "source": [
    "# Задача 2"
   ]
  },
  {
   "cell_type": "code",
   "execution_count": 1,
   "id": "304e24a6",
   "metadata": {},
   "outputs": [],
   "source": [
    "from typing import Dict"
   ]
  },
  {
   "cell_type": "markdown",
   "id": "38763942",
   "metadata": {},
   "source": [
    "# Реализация декоратора `cache`"
   ]
  },
  {
   "cell_type": "code",
   "execution_count": 3,
   "id": "f7777873",
   "metadata": {},
   "outputs": [],
   "source": [
    "\"\"\"\n",
    "Декоратор для кэширования информации с ограничением на количество запросов.\n",
    "Аргументы:\n",
    "- db (str): название базы данных, где кэшируется информация.\n",
    "- expiration (int): количество раз, когда данные можно взять из кэша.\n",
    "\"\"\"\n",
    "def cache(db: str, expiration: int):\n",
    "    cache_storage: Dict[str, Dict] = {}  # Хранилище кэша\n",
    "\n",
    "    def decorator(func):\n",
    "        def wrapper(thing: str) -> str:\n",
    "            # Если элемент уже в кэше\n",
    "            if thing in cache_storage:\n",
    "                cache_entry = cache_storage[thing]\n",
    "                if cache_entry['expires'] > 0:\n",
    "                    cache_entry['expires'] -= 1\n",
    "                    return f\"Info about: {thing} cached in {db}, expire={cache_entry['expires']}\"\n",
    "                else:\n",
    "                    del cache_storage[thing]  # Удаляем устаревший кэш\n",
    "            # Кэшируем новый результат\n",
    "            result = func(thing)\n",
    "            cache_storage[thing] = {'data': result, 'expires': expiration}\n",
    "            return f\"{result} from {db}, now cached with expire={expiration}\"\n",
    "        return wrapper\n",
    "    return decorator"
   ]
  },
  {
   "cell_type": "markdown",
   "id": "0541f41a",
   "metadata": {},
   "source": [
    "# Определение функции `get_info`"
   ]
  },
  {
   "cell_type": "code",
   "execution_count": 4,
   "id": "860e5ff9",
   "metadata": {},
   "outputs": [],
   "source": [
    "\"\"\"\n",
    "Функция возвращает информацию о предмете (в реальных задачах, возможно, обращение к БД).\n",
    "\"\"\"\n",
    "@cache(db=\"postgresql\", expiration=5)\n",
    "def get_info(thing: str) -> str:\n",
    "    return f\"Info about: {thing}\""
   ]
  },
  {
   "cell_type": "markdown",
   "id": "a0df0c8b",
   "metadata": {},
   "source": [
    "# Пример использования декоратора и тестирования"
   ]
  },
  {
   "cell_type": "code",
   "execution_count": 6,
   "id": "64d41a64",
   "metadata": {},
   "outputs": [
    {
     "name": "stdout",
     "output_type": "stream",
     "text": [
      "Info about: bike_store from postgresql, now cached with expire=5\n",
      "Info about: bike_store cached in postgresql, expire=4\n",
      "Info about: bike_store cached in postgresql, expire=3\n",
      "Info about: bike_store cached in postgresql, expire=2\n",
      "Info about: bike_store cached in postgresql, expire=1\n",
      "Info about: bike_store cached in postgresql, expire=0\n",
      "Info about: bike_store from postgresql, now cached with expire=5\n",
      "Info about: bike_store from sqlite, now cached with expire=3\n",
      "Info about: bike_store cached in sqlite, expire=2\n",
      "Info about: bike_store cached in sqlite, expire=1\n",
      "Info about: bike_store cached in sqlite, expire=0\n",
      "Info about: bike_store from sqlite, now cached with expire=3\n"
     ]
    }
   ],
   "source": [
    "# Пример тестирования\n",
    "def test_cache():\n",
    "    print(get_info(\"bike_store\"))  # Ожидаемый вывод: Info about: bike_store from postgresql, now cached with expire=5\n",
    "    print(get_info(\"bike_store\"))  # Ожидаемый вывод: Info about: bike_store cached in postgresql, expire=4\n",
    "    print(get_info(\"bike_store\"))  # И так далее...\n",
    "    print(get_info(\"bike_store\"))\n",
    "    print(get_info(\"bike_store\"))\n",
    "    print(get_info(\"bike_store\"))  # expire=0, затем кэш обновляется\n",
    "    print(get_info(\"bike_store\"))  # Кэш обновлен\n",
    "\n",
    "    # Новый пример с другой базой данных и настройками\n",
    "    def new_get_info(thing: str) -> str:\n",
    "        return f\"Info about: {thing}\"\n",
    "\n",
    "    new_get_info = cache(db=\"sqlite\", expiration=3)(new_get_info)  # Применяем новый декоратор\n",
    "    print(new_get_info(\"bike_store\"))  # Ожидаемый вывод: Info about: bike_store from sqlite, now cached with expire=3\n",
    "    print(new_get_info(\"bike_store\"))\n",
    "    print(new_get_info(\"bike_store\"))\n",
    "    print(new_get_info(\"bike_store\"))  # expire=0\n",
    "    print(new_get_info(\"bike_store\"))  # Кэш обновлен\n",
    "\n",
    "# Запуск тестов\n",
    "test_cache()"
   ]
  }
 ],
 "metadata": {
  "kernelspec": {
   "display_name": "Python 3",
   "language": "python",
   "name": "python3"
  },
  "language_info": {
   "codemirror_mode": {
    "name": "ipython",
    "version": 3
   },
   "file_extension": ".py",
   "mimetype": "text/x-python",
   "name": "python",
   "nbconvert_exporter": "python",
   "pygments_lexer": "ipython3",
   "version": "3.13.0"
  }
 },
 "nbformat": 4,
 "nbformat_minor": 5
}
