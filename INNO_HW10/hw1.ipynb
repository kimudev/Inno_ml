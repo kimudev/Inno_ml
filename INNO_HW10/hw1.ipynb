{
 "cells": [
  {
   "cell_type": "markdown",
   "metadata": {},
   "source": [
    "# Задание 1"
   ]
  },
  {
   "cell_type": "markdown",
   "metadata": {},
   "source": [
    "## Импорт библиотек\n",
    "Импортируем необходимые библиотеки для работы."
   ]
  },
  {
   "cell_type": "code",
   "execution_count": 2,
   "metadata": {},
   "outputs": [],
   "source": [
    "import json\n",
    "import time\n",
    "from concurrent.futures import ThreadPoolExecutor, as_completed"
   ]
  },
  {
   "cell_type": "markdown",
   "metadata": {},
   "source": [
    "## Загрузка данных\n",
    "Загружаем данные из файла и преобразуем их в список."
   ]
  },
  {
   "cell_type": "code",
   "execution_count": 4,
   "metadata": {},
   "outputs": [
    {
     "name": "stdout",
     "output_type": "stream",
     "text": [
      "[[175, 790, 103, 479, 433, 406, 510, 377, 184, 777, 990, 321], [466, 538, 210, 881, 873, 411, 856, 965, 537, 243, 749, 229, 545, 312, 651, 342, 328, 152, 473, 479, 257, 899, 362, 584, 888], [393, 488, 955, 771, 536, 922, 182, 564, 581, 998, 556, 813, 482, 940, 947, 267, 721, 944, 820, 993], [691, 532, 354, 831, 241, 724, 547, 580, 191, 742, 263, 149, 661, 804, 819, 246, 519, 698], [373, 235, 860, 591, 592, 227, 455, 113, 426, 181, 741, 723, 998, 667, 827], [924, 880, 704, 133, 538, 795, 364, 687, 775, 925, 445, 659, 883, 620, 391, 836, 779, 617, 528, 914, 424], [324, 643, 171, 208, 330, 306, 559, 927, 871, 284, 438, 644, 447, 893, 287], [993, 788, 192, 169, 549, 162, 324, 213, 277, 376, 391, 243, 749, 229, 545, 516, 260, 798], [497, 971, 765, 137, 543, 498, 583, 649, 558, 488, 882, 907, 589, 151, 724, 689, 134, 492, 124, 114, 147, 734, 524, 658, 441, 908, 192, 240], [575, 873, 922, 950, 375, 555, 351, 582, 659, 629, 619, 851, 661, 804, 819, 246, 519, 698, 286, 639, 593, 773, 157]]\n"
     ]
    }
   ],
   "source": [
    "# Чтение файла\n",
    "with open('test_list_numbers.json', 'r') as file:\n",
    "    data = json.load(file)\n",
    "\n",
    "# Проверяем структуру данных\n",
    "print(data)"
   ]
  },
  {
   "cell_type": "markdown",
   "metadata": {},
   "source": [
    "## Обработка данных\n",
    "Реализуем многопоточную обработку чисел."
   ]
  },
  {
   "cell_type": "code",
   "execution_count": 5,
   "metadata": {},
   "outputs": [
    {
     "name": "stdout",
     "output_type": "stream",
     "text": [
      "Сумма чисел в первом обработанном списке: 11090\n"
     ]
    }
   ],
   "source": [
    "# Функция для обработки числа\n",
    "def process_number(number):\n",
    "    time.sleep(0.2)  # Имитация задержки\n",
    "    return number * 2\n",
    "\n",
    "# Инициализация ThreadPoolExecutor\n",
    "results_by_list = []\n",
    "with ThreadPoolExecutor(max_workers=10) as executor:\n",
    "    futures = []\n",
    "    future_to_list = {}\n",
    "    for i, sublist in enumerate(data):\n",
    "        sublist_futures = [executor.submit(process_number, number) for number in sublist]\n",
    "        futures.extend(sublist_futures)\n",
    "        future_to_list.update({future: i for future in sublist_futures})\n",
    "\n",
    "    # Обработка результатов по мере выполнения\n",
    "    results_by_list = [[] for _ in range(len(data))]\n",
    "    for future in as_completed(futures):\n",
    "        result = future.result()\n",
    "        list_index = future_to_list[future]\n",
    "        results_by_list[list_index].append(result)\n",
    "\n",
    "# Находим сумму чисел в первом обработанном списке\n",
    "first_processed_list = next(filter(lambda x: len(x) > 0, results_by_list))\n",
    "first_list_sum = sum(first_processed_list)\n",
    "print(f'Сумма чисел в первом обработанном списке: {first_list_sum}')"
   ]
  }
 ],
 "metadata": {
  "kernelspec": {
   "display_name": "Python 3",
   "language": "python",
   "name": "python3"
  },
  "language_info": {
   "codemirror_mode": {
    "name": "ipython",
    "version": 3
   },
   "file_extension": ".py",
   "mimetype": "text/x-python",
   "name": "python",
   "nbconvert_exporter": "python",
   "pygments_lexer": "ipython3",
   "version": "3.13.0"
  }
 },
 "nbformat": 4,
 "nbformat_minor": 4
}
