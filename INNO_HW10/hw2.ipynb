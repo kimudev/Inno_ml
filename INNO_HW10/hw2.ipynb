{
  "cells": [
    {
      "cell_type": "markdown",
      "metadata": {
        "id": "O3gLTC7hnjD6"
      },
      "source": [
        "# Задача 2\n",
        "В этом блоке кода происходит распаковка архивов `path_8_8.zip` и `recursive_challenge_8_8.zip`.\n",
        "Распакованные файлы сохраняются в текущем каталоге."
      ]
    },
    {
      "cell_type": "code",
      "execution_count": 1,
      "metadata": {
        "id": "WtIJuQVFnjD7"
      },
      "outputs": [],
      "source": [
        "import os\n",
        "import zipfile\n",
        "\n",
        "def extract_archives():\n",
        "    \"\"\"\n",
        "    Распаковывает архивы path_8_8.zip и recursive_challenge_8_8.zip\n",
        "    в текущий каталог.\n",
        "    \"\"\"\n",
        "    archives = [\"path_8_8.zip\", \"recursive_challenge_8_8.zip\"]\n",
        "    for archive in archives:\n",
        "        with zipfile.ZipFile(archive, 'r') as zip_ref:\n",
        "            zip_ref.extractall(\"./\")\n"
      ]
    },
    {
      "cell_type": "markdown",
      "metadata": {
        "id": "lG87DEWXnjD7"
      },
      "source": [
        "# Чтение пути из файла\n",
        "Этот блок отвечает за чтение содержимого файла, которое возвращается в виде строки."
      ]
    },
    {
      "cell_type": "code",
      "execution_count": 2,
      "metadata": {
        "id": "WTg-eVtrnjD7"
      },
      "outputs": [],
      "source": [
        "def read_path_from_file(file_path):\n",
        "    \"\"\"\n",
        "    Считывает содержимое файла и возвращает его как строку.\n",
        "\n",
        "    :param file_path: Путь к файлу\n",
        "    :return: Содержимое файла\n",
        "    \"\"\"\n",
        "    with open(file_path, 'r') as f:\n",
        "        return f.read().strip()\n"
      ]
    },
    {
      "cell_type": "markdown",
      "metadata": {
        "id": "QC95Ni60njD7"
      },
      "source": [
        "# Обработка одного файла\n",
        "Этот блок обрабатывает один файл из первого архива, находит связанный файл\n",
        "во втором архиве и извлекает из него число."
      ]
    },
    {
      "cell_type": "code",
      "execution_count": 21,
      "metadata": {
        "id": "AmmWgQCfnjD7"
      },
      "outputs": [],
      "source": [
        "def process_file(file_name, base_path_1, _):\n",
        "    \"\"\"\n",
        "    Обрабатывает один файл из первого архива, находит связанный файл\n",
        "    во втором архиве и извлекает из него число.\n",
        "\n",
        "    :param file_name: Имя файла из первого архива\n",
        "    :param base_path_1: Путь к папке первого архива\n",
        "    :param _: Игнорируется, больше не используется (base_path_2)\n",
        "    :return: Найденное число или 0 в случае ошибки\n",
        "    \"\"\"\n",
        "    try:\n",
        "        # Путь к файлу в первом архиве\n",
        "        first_file_path = os.path.normpath(os.path.join(base_path_1, file_name))\n",
        "\n",
        "        # Чтение пути ко второму файлу\n",
        "        second_file_relative_path = read_path_from_file(first_file_path).strip()\n",
        "\n",
        "        # Преобразуем обратные слэши в прямые\n",
        "        second_file_relative_path = second_file_relative_path.replace(\"\\\\\", \"/\")\n",
        "\n",
        "        # Полный путь ко второму файлу\n",
        "        second_file_path = os.path.normpath(second_file_relative_path)\n",
        "\n",
        "        # Проверка существования файла\n",
        "        if not os.path.isfile(second_file_path):\n",
        "            print(f\"Файл не найден: {second_file_path}\")\n",
        "            return 0\n",
        "\n",
        "        # Чтение числа из конечного файла\n",
        "        number = int(read_path_from_file(second_file_path))\n",
        "        return number\n",
        "    except Exception as e:\n",
        "        print(f\"Ошибка при обработке файла {file_name}: {e}\")\n",
        "        return 0\n"
      ]
    },
    {
      "cell_type": "markdown",
      "metadata": {
        "id": "mdeCXyNnnjD8"
      },
      "source": [
        "# Главная функция\n",
        "Главная функция запускает процесс обработки файлов из первого архива,\n",
        "использует многопроцессорность для повышения скорости и суммирует найденные числа."
      ]
    },
    {
      "cell_type": "code",
      "execution_count": 22,
      "metadata": {
        "colab": {
          "base_uri": "https://localhost:8080/"
        },
        "id": "oT-uOuianjD8",
        "outputId": "8cb17a42-89fd-4c42-d6c5-529d37d635f5"
      },
      "outputs": [
        {
          "name": "stdout",
          "output_type": "stream",
          "text": [
            "Сумма всех чисел: 5152208\n"
          ]
        }
      ],
      "source": [
        "from multiprocessing import Pool\n",
        "\n",
        "def main():\n",
        "    \"\"\"\n",
        "    Главная функция, которая выполняет обработку файлов и суммирует числа.\n",
        "    \"\"\"\n",
        "    # Распаковка архивов\n",
        "    extract_archives()\n",
        "\n",
        "    # Папка с файлами после распаковки\n",
        "    base_path_1 = \"./path\"\n",
        "\n",
        "    # Получение списка файлов из первого архива\n",
        "    file_names = os.listdir(base_path_1)\n",
        "\n",
        "    # Многопроцессорная обработка файлов\n",
        "    with Pool() as pool:\n",
        "        results = pool.starmap(process_file, [(file_name, base_path_1, None) for file_name in file_names])\n",
        "\n",
        "    # Суммирование чисел\n",
        "    total_sum = sum(results)\n",
        "    print(f\"Сумма всех чисел: {total_sum}\")\n",
        "\n",
        "if __name__ == \"__main__\":\n",
        "    main()\n"
      ]
    }
  ],
  "metadata": {
    "colab": {
      "provenance": []
    },
    "kernelspec": {
      "display_name": "Python 3",
      "language": "python",
      "name": "python3"
    },
    "language_info": {
      "codemirror_mode": {
        "name": "ipython",
        "version": 3
      },
      "file_extension": ".py",
      "mimetype": "text/x-python",
      "name": "python",
      "nbconvert_exporter": "python",
      "pygments_lexer": "ipython3",
      "version": "3.8.10"
    }
  },
  "nbformat": 4,
  "nbformat_minor": 0
}
