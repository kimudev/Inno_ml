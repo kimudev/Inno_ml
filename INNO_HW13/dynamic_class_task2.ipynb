{
 "cells": [
  {
   "cell_type": "markdown",
   "id": "20bd9484",
   "metadata": {},
   "source": [
    "# Задача 2. Реализация функции `create_class_with_methods`"
   ]
  },
  {
   "cell_type": "code",
   "execution_count": 1,
   "id": "5170b5d5",
   "metadata": {},
   "outputs": [],
   "source": [
    "\"\"\"\n",
    "Функция для динамического создания класса с атрибутами и методами.\n",
    "\n",
    "Аргументы:\n",
    "- class_name (str): Имя создаваемого класса.\n",
    "- attributes (dict): Словарь атрибутов класса.\n",
    "- methods (dict): Словарь методов класса.\n",
    "\n",
    "Возвращает:\n",
    "- class: Динамически созданный класс.\n",
    "\"\"\"\n",
    "def create_class_with_methods(class_name: str, attributes: dict, methods: dict):\n",
    "    # Комбинируем атрибуты и методы\n",
    "    class_dict = attributes.copy()\n",
    "    class_dict.update(methods)\n",
    "    # Создаём класс с использованием type\n",
    "    return type(class_name, (object,), class_dict)"
   ]
  },
  {
   "cell_type": "markdown",
   "id": "4e6ccc01",
   "metadata": {},
   "source": [
    "# Пример использования функции `create_class_with_methods`"
   ]
  },
  {
   "cell_type": "code",
   "execution_count": 2,
   "id": "0d6301d0",
   "metadata": {},
   "outputs": [
    {
     "name": "stdout",
     "output_type": "stream",
     "text": [
      "Hello, I am a Human and I am 25 years old.\n"
     ]
    }
   ],
   "source": [
    "# Определяем атрибуты и методы для динамического класса\n",
    "attributes = {\n",
    "    'species': 'Human',\n",
    "    'age': 25\n",
    "}\n",
    "\n",
    "methods = {\n",
    "    'greet': lambda self: f\"Hello, I am a {self.species} and I am {self.age} years old.\"\n",
    "}\n",
    "\n",
    "# Создаём класс\n",
    "DynamicClass = create_class_with_methods('DynamicClass', attributes, methods)\n",
    "\n",
    "# Создаём экземпляр динамического класса\n",
    "instance = DynamicClass()\n",
    "\n",
    "# Вызываем метод greet\n",
    "print(instance.greet())  # Ожидаемый вывод: Hello, I am a Human and I am 25 years old."
   ]
  }
 ],
 "metadata": {
  "kernelspec": {
   "display_name": "venv",
   "language": "python",
   "name": "python3"
  },
  "language_info": {
   "codemirror_mode": {
    "name": "ipython",
    "version": 3
   },
   "file_extension": ".py",
   "mimetype": "text/x-python",
   "name": "python",
   "nbconvert_exporter": "python",
   "pygments_lexer": "ipython3",
   "version": "3.12.7"
  }
 },
 "nbformat": 4,
 "nbformat_minor": 5
}
