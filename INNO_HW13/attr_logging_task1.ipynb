{
 "cells": [
  {
   "cell_type": "markdown",
   "id": "ad6f9039",
   "metadata": {},
   "source": [
    "# Задача 1. Реализация метакласса `PythonAttrLoggingMeta`"
   ]
  },
  {
   "cell_type": "code",
   "execution_count": 1,
   "id": "6dad7c3f",
   "metadata": {},
   "outputs": [],
   "source": [
    "\"\"\"\n",
    "Метакласс для логирования доступа, чтения и записи атрибутов класса.\n",
    "\"\"\"\n",
    "\n",
    "\n",
    "class PythonAttrLoggingMeta(type):\n",
    "    def __new__(cls, name, bases, class_dict):\n",
    "        for attr_name, attr_value in class_dict.items():\n",
    "            if not attr_name.startswith(\"__\"):\n",
    "                # Логируем создание атрибутов\n",
    "                cls.log_access(attr_name, attr_value)\n",
    "        cls_instance = super().__new__(cls, name, bases, class_dict)\n",
    "        return cls_instance\n",
    "\n",
    "    @staticmethod\n",
    "    def log_access(name, value):\n",
    "        print(f\"Accessing attribute {name} with value {value}\")\n",
    "\n",
    "    @staticmethod\n",
    "    def log_read(name, value, instance):\n",
    "        print(f\"Reading attribute {name}: {value}\")\n",
    "\n",
    "    @staticmethod\n",
    "    def log_write(name, value, instance):\n",
    "        print(f\"Writing attribute {name} with value {value}\")"
   ]
  },
  {
   "cell_type": "markdown",
   "id": "503d76b3",
   "metadata": {},
   "source": [
    "# Создание класса `LoggedClass`"
   ]
  },
  {
   "cell_type": "code",
   "execution_count": 2,
   "id": "b2d23950",
   "metadata": {},
   "outputs": [
    {
     "name": "stdout",
     "output_type": "stream",
     "text": [
      "Accessing attribute custom_method with value 42\n",
      "Accessing attribute other_custom_method with value <function LoggedClass.other_custom_method at 0x11a0b19e0>\n"
     ]
    }
   ],
   "source": [
    "\"\"\"\n",
    "Класс с использованием метакласса `PythonAttrLoggingMeta`.\n",
    "\"\"\"\n",
    "class LoggedClass(metaclass=PythonAttrLoggingMeta):\n",
    "    custom_method = 42\n",
    "\n",
    "    def other_custom_method(self):\n",
    "        print(\"Calling method other_custom_method\")"
   ]
  },
  {
   "cell_type": "markdown",
   "id": "dbdbc279",
   "metadata": {},
   "source": [
    "# Пример использования `LoggedClass`"
   ]
  },
  {
   "cell_type": "code",
   "execution_count": 3,
   "id": "993d8d87",
   "metadata": {},
   "outputs": [
    {
     "name": "stdout",
     "output_type": "stream",
     "text": [
      "42\n",
      "Calling method other_custom_method\n"
     ]
    }
   ],
   "source": [
    "# Пример использования LoggedClass\n",
    "if __name__ == \"__main__\":\n",
    "    instance = LoggedClass()\n",
    "    print(instance.custom_method)  # Ожидается логирование чтения атрибута\n",
    "    instance.custom_method = 78    # Ожидается логирование записи атрибута\n",
    "    instance.other_custom_method()  # Ожидается вызов метода"
   ]
  }
 ],
 "metadata": {
  "kernelspec": {
   "display_name": "venv",
   "language": "python",
   "name": "python3"
  },
  "language_info": {
   "codemirror_mode": {
    "name": "ipython",
    "version": 3
   },
   "file_extension": ".py",
   "mimetype": "text/x-python",
   "name": "python",
   "nbconvert_exporter": "python",
   "pygments_lexer": "ipython3",
   "version": "3.12.7"
  }
 },
 "nbformat": 4,
 "nbformat_minor": 5
}
