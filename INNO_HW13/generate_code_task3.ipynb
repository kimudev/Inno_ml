{
 "cells": [
  {
   "cell_type": "markdown",
   "id": "f2bc2032",
   "metadata": {},
   "source": [
    "# Задача 3. Реализация функции `generate_complex_function`"
   ]
  },
  {
   "cell_type": "code",
   "execution_count": 1,
   "id": "dacf108e",
   "metadata": {},
   "outputs": [],
   "source": [
    "\"\"\"\n",
    "Функция для динамического создания функции.\n",
    "\n",
    "Аргументы:\n",
    "- function_name (str): Имя создаваемой функции.\n",
    "- parameters (list): Список параметров функции.\n",
    "- function_body (str): Тело функции в виде строки.\n",
    "\n",
    "Возвращает:\n",
    "- function: Динамически созданная функция.\n",
    "\"\"\"\n",
    "def generate_complex_function(function_name: str, parameters: list, function_body: str):\n",
    "    # Генерируем определение функции в виде строки\n",
    "    func_code = f\"def {function_name}({', '.join(parameters)}):\\n\"\n",
    "    func_code += \"\\n\".join([f\"    {line}\" for line in function_body.splitlines()])\n",
    "    \n",
    "    # Локальное пространство имен для exec\n",
    "    local_namespace = {}\n",
    "    exec(func_code, {}, local_namespace)\n",
    "    \n",
    "    # Возвращаем созданную функцию\n",
    "    return local_namespace[function_name]"
   ]
  },
  {
   "cell_type": "markdown",
   "id": "6f5628ec",
   "metadata": {},
   "source": [
    "# Пример использования функции `generate_complex_function`"
   ]
  },
  {
   "cell_type": "code",
   "execution_count": 2,
   "id": "7a642553",
   "metadata": {},
   "outputs": [
    {
     "name": "stdout",
     "output_type": "stream",
     "text": [
      "5\n",
      "5\n"
     ]
    }
   ],
   "source": [
    "# Задаем параметры для генерации функции\n",
    "function_name = 'complex_function'\n",
    "parameters = ['x', 'y']\n",
    "function_body = \"\"\"\n",
    "if x > y:\n",
    "    return x - y\n",
    "else:\n",
    "    return y - x\n",
    "\"\"\"\n",
    "\n",
    "# Генерируем функцию\n",
    "complex_func = generate_complex_function(function_name, parameters, function_body)\n",
    "\n",
    "# Тестируем сгенерированную функцию\n",
    "print(complex_func(10, 5))  # Ожидаемый вывод: 5\n",
    "print(complex_func(5, 10))  # Ожидаемый вывод: 5"
   ]
  }
 ],
 "metadata": {
  "kernelspec": {
   "display_name": "venv",
   "language": "python",
   "name": "python3"
  },
  "language_info": {
   "codemirror_mode": {
    "name": "ipython",
    "version": 3
   },
   "file_extension": ".py",
   "mimetype": "text/x-python",
   "name": "python",
   "nbconvert_exporter": "python",
   "pygments_lexer": "ipython3",
   "version": "3.12.7"
  }
 },
 "nbformat": 4,
 "nbformat_minor": 5
}
