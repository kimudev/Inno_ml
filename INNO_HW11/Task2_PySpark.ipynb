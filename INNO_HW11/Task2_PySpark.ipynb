{
  "cells": [
    {
      "cell_type": "code",
      "execution_count": 1,
      "id": "8dz8Ylt_Hevp",
      "metadata": {
        "colab": {
          "base_uri": "https://localhost:8080/"
        },
        "id": "8dz8Ylt_Hevp",
        "outputId": "4f246008-5866-41cc-affb-e251609975a9"
      },
      "outputs": [
        {
          "name": "stdout",
          "output_type": "stream",
          "text": [
            "\r0% [Working]\r            \rHit:1 http://archive.ubuntu.com/ubuntu jammy InRelease\n",
            "\r0% [Connecting to security.ubuntu.com (91.189.91.82)] [Connecting to cloud.r-project.org] [Connectin\r                                                                                                    \rGet:2 http://archive.ubuntu.com/ubuntu jammy-updates InRelease [128 kB]\n",
            "Get:3 http://archive.ubuntu.com/ubuntu jammy-backports InRelease [127 kB]\n",
            "Get:4 http://security.ubuntu.com/ubuntu jammy-security InRelease [129 kB]\n",
            "Get:5 https://cloud.r-project.org/bin/linux/ubuntu jammy-cran40/ InRelease [3,626 B]\n",
            "Get:6 https://developer.download.nvidia.com/compute/cuda/repos/ubuntu2204/x86_64  InRelease [1,581 B]\n",
            "Hit:7 https://ppa.launchpadcontent.net/deadsnakes/ppa/ubuntu jammy InRelease\n",
            "Hit:8 https://ppa.launchpadcontent.net/graphics-drivers/ppa/ubuntu jammy InRelease\n",
            "Hit:9 https://ppa.launchpadcontent.net/ubuntugis/ppa/ubuntu jammy InRelease\n",
            "Get:10 https://r2u.stat.illinois.edu/ubuntu jammy InRelease [6,555 B]\n",
            "Get:11 http://archive.ubuntu.com/ubuntu jammy-updates/main amd64 Packages [2,860 kB]\n",
            "Get:12 http://archive.ubuntu.com/ubuntu jammy-updates/universe amd64 Packages [1,519 kB]\n",
            "Get:13 https://cloud.r-project.org/bin/linux/ubuntu jammy-cran40/ Packages [62.5 kB]\n",
            "Get:14 https://developer.download.nvidia.com/compute/cuda/repos/ubuntu2204/x86_64  Packages [1,234 kB]\n",
            "Get:15 http://security.ubuntu.com/ubuntu jammy-security/universe amd64 Packages [1,228 kB]\n",
            "Get:16 https://r2u.stat.illinois.edu/ubuntu jammy/main all Packages [8,606 kB]\n",
            "Get:17 http://security.ubuntu.com/ubuntu jammy-security/main amd64 Packages [2,561 kB]\n",
            "Get:18 https://r2u.stat.illinois.edu/ubuntu jammy/main amd64 Packages [2,641 kB]\n",
            "Fetched 21.1 MB in 4s (4,891 kB/s)\n",
            "Reading package lists... Done\n",
            "W: Skipping acquire of configured file 'main/source/Sources' as repository 'https://r2u.stat.illinois.edu/ubuntu jammy InRelease' does not seem to provide it (sources.list entry misspelt?)\n",
            "Reading package lists... Done\n",
            "Building dependency tree... Done\n",
            "Reading state information... Done\n",
            "openjdk-11-jdk-headless is already the newest version (11.0.25+9-1ubuntu1~22.04).\n",
            "0 upgraded, 0 newly installed, 0 to remove and 65 not upgraded.\n",
            "Requirement already satisfied: pyspark in /usr/local/lib/python3.11/dist-packages (3.5.4)\n",
            "Requirement already satisfied: py4j==0.10.9.7 in /usr/local/lib/python3.11/dist-packages (from pyspark) (0.10.9.7)\n"
          ]
        }
      ],
      "source": [
        "# Делал в Google Colab т.к. на macos так и не разобрался с ошибками установки спарка!!!\n",
        "\n",
        "# Установка Java\n",
        "!apt-get update\n",
        "!apt-get install -y openjdk-11-jdk-headless\n",
        "\n",
        "# Установка PySpark\n",
        "!pip install pyspark"
      ]
    },
    {
      "cell_type": "markdown",
      "id": "167ebf6b",
      "metadata": {},
      "source": []
    },
    {
      "cell_type": "markdown",
      "id": "1d3618c0",
      "metadata": {
        "id": "1d3618c0"
      },
      "source": [
        "# Задача 2: Работа с PySpark"
      ]
    },
    {
      "cell_type": "markdown",
      "id": "5c4ec3a3",
      "metadata": {
        "id": "5c4ec3a3"
      },
      "source": [
        "## Импорт необходимых библиотек"
      ]
    },
    {
      "cell_type": "code",
      "execution_count": 2,
      "id": "884b47ea",
      "metadata": {
        "id": "884b47ea"
      },
      "outputs": [],
      "source": [
        "from pyspark.sql import SparkSession"
      ]
    },
    {
      "cell_type": "markdown",
      "id": "b1e25c39",
      "metadata": {
        "id": "b1e25c39"
      },
      "source": [
        "## Инициализация SparkSession"
      ]
    },
    {
      "cell_type": "code",
      "execution_count": 3,
      "id": "9107a93b",
      "metadata": {
        "id": "9107a93b"
      },
      "outputs": [],
      "source": [
        "spark = SparkSession.builder \\\n",
        "    .appName(\"Bike Store Analysis\") \\\n",
        "    .getOrCreate()"
      ]
    },
    {
      "cell_type": "markdown",
      "id": "a4287068",
      "metadata": {
        "id": "a4287068"
      },
      "source": [
        "## Загрузка данных в PySpark DataFrame"
      ]
    },
    {
      "cell_type": "code",
      "execution_count": 4,
      "id": "e68d2fbf",
      "metadata": {
        "colab": {
          "base_uri": "https://localhost:8080/"
        },
        "id": "e68d2fbf",
        "outputId": "ace4c86c-e5da-4e3d-c982-6074b3cb644e"
      },
      "outputs": [
        {
          "name": "stdout",
          "output_type": "stream",
          "text": [
            "Loading data from products.csv into table products...\n",
            "Data from products.csv successfully loaded into table products.\n",
            "Loading data from brands.csv into table brands...\n",
            "Data from brands.csv successfully loaded into table brands.\n",
            "Loading data from categories.csv into table categories...\n",
            "Data from categories.csv successfully loaded into table categories.\n",
            "Loading data from customers.csv into table customers...\n",
            "Data from customers.csv successfully loaded into table customers.\n",
            "Loading data from order_items.csv into table order_items...\n",
            "Data from order_items.csv successfully loaded into table order_items.\n",
            "Loading data from orders.csv into table orders...\n",
            "Data from orders.csv successfully loaded into table orders.\n",
            "Loading data from staffs.csv into table staffs...\n",
            "Data from staffs.csv successfully loaded into table staffs.\n",
            "Loading data from stocks.csv into table stocks...\n",
            "Data from stocks.csv successfully loaded into table stocks.\n",
            "Loading data from stores.csv into table stores...\n",
            "Data from stores.csv successfully loaded into table stores.\n",
            "\n",
            "Preview of products:\n",
            "+----------+--------------------+--------+-----------+----------+----------+\n",
            "|product_id|        product_name|brand_id|category_id|model_year|list_price|\n",
            "+----------+--------------------+--------+-----------+----------+----------+\n",
            "|         1|     Trek 820 - 2016|       9|          6|      2016|    379.99|\n",
            "|         2|Ritchey Timberwol...|       5|          6|      2016|    749.99|\n",
            "|         3|Surly Wednesday F...|       8|          6|      2016|    999.99|\n",
            "|         4|Trek Fuel EX 8 29...|       9|          6|      2016|   2899.99|\n",
            "|         5|Heller Shagamaw F...|       3|          6|      2016|   1320.99|\n",
            "+----------+--------------------+--------+-----------+----------+----------+\n",
            "only showing top 5 rows\n",
            "\n",
            "\n",
            "Preview of brands:\n",
            "+--------+-----------+\n",
            "|brand_id| brand_name|\n",
            "+--------+-----------+\n",
            "|       1|    Electra|\n",
            "|       2|       Haro|\n",
            "|       3|     Heller|\n",
            "|       4|Pure Cycles|\n",
            "|       5|    Ritchey|\n",
            "+--------+-----------+\n",
            "only showing top 5 rows\n",
            "\n",
            "\n",
            "Preview of categories:\n",
            "+-----------+-------------------+\n",
            "|category_id|      category_name|\n",
            "+-----------+-------------------+\n",
            "|          1|  Children Bicycles|\n",
            "|          2|   Comfort Bicycles|\n",
            "|          3|  Cruisers Bicycles|\n",
            "|          4|Cyclocross Bicycles|\n",
            "|          5|     Electric Bikes|\n",
            "+-----------+-------------------+\n",
            "only showing top 5 rows\n",
            "\n",
            "\n",
            "Preview of customers:\n",
            "+-----------+----------+---------+--------------+--------------------+--------------------+-------------+-----+--------+\n",
            "|customer_id|first_name|last_name|         phone|               email|              street|         city|state|zip_code|\n",
            "+-----------+----------+---------+--------------+--------------------+--------------------+-------------+-----+--------+\n",
            "|          1|     Debra|    Burks|          NULL|debra.burks@yahoo...|   9273 Thorne Ave. | Orchard Park|   NY|   14127|\n",
            "|          2|     Kasha|     Todd|          NULL|kasha.todd@yahoo.com|    910 Vine Street |     Campbell|   CA|   95008|\n",
            "|          3|    Tameka|   Fisher|          NULL|tameka.fisher@aol...|769C Honey Creek ...|Redondo Beach|   CA|   90278|\n",
            "|          4|     Daryl|   Spence|          NULL|daryl.spence@aol.com|     988 Pearl Lane |    Uniondale|   NY|   11553|\n",
            "|          5|Charolette|     Rice|(916) 381-6003|charolette.rice@m...|      107 River Dr. |   Sacramento|   CA|   95820|\n",
            "+-----------+----------+---------+--------------+--------------------+--------------------+-------------+-----+--------+\n",
            "only showing top 5 rows\n",
            "\n",
            "\n",
            "Preview of order_items:\n",
            "+--------+-------+----------+--------+----------+--------+\n",
            "|order_id|item_id|product_id|quantity|list_price|discount|\n",
            "+--------+-------+----------+--------+----------+--------+\n",
            "|       1|      1|        20|       1|    599.99|     0.2|\n",
            "|       1|      2|         8|       2|   1799.99|    0.07|\n",
            "|       1|      3|        10|       2|    1549.0|    0.05|\n",
            "|       1|      4|        16|       2|    599.99|    0.05|\n",
            "|       1|      5|         4|       1|   2899.99|     0.2|\n",
            "+--------+-------+----------+--------+----------+--------+\n",
            "only showing top 5 rows\n",
            "\n",
            "\n",
            "Preview of orders:\n",
            "+--------+-----------+------------+----------+-------------+------------+--------+--------+\n",
            "|order_id|customer_id|order_status|order_date|required_date|shipped_date|store_id|staff_id|\n",
            "+--------+-----------+------------+----------+-------------+------------+--------+--------+\n",
            "|       1|        259|           4|2016-01-01|   2016-01-03|  2016-01-03|       1|       2|\n",
            "|       2|       1212|           4|2016-01-01|   2016-01-04|  2016-01-03|       2|       6|\n",
            "|       3|        523|           4|2016-01-02|   2016-01-05|  2016-01-03|       2|       7|\n",
            "|       4|        175|           4|2016-01-03|   2016-01-04|  2016-01-05|       1|       3|\n",
            "|       5|       1324|           4|2016-01-03|   2016-01-06|  2016-01-06|       2|       6|\n",
            "+--------+-----------+------------+----------+-------------+------------+--------+--------+\n",
            "only showing top 5 rows\n",
            "\n",
            "\n",
            "Preview of staffs:\n",
            "+--------+----------+---------+--------------------+--------------+------+--------+----------+\n",
            "|staff_id|first_name|last_name|               email|         phone|active|store_id|manager_id|\n",
            "+--------+----------+---------+--------------------+--------------+------+--------+----------+\n",
            "|       1|   Fabiola|  Jackson|fabiola.jackson@b...|(831) 555-5554|     1|       1|      NULL|\n",
            "|       2|    Mireya| Copeland|mireya.copeland@b...|(831) 555-5555|     1|       1|         1|\n",
            "|       3|     Genna|  Serrano|genna.serrano@bik...|(831) 555-5556|     1|       1|         2|\n",
            "|       4|    Virgie|  Wiggins|virgie.wiggins@bi...|(831) 555-5557|     1|       1|         2|\n",
            "|       5|  Jannette|    David|jannette.david@bi...|(516) 379-4444|     1|       2|         1|\n",
            "+--------+----------+---------+--------------------+--------------+------+--------+----------+\n",
            "only showing top 5 rows\n",
            "\n",
            "\n",
            "Preview of stocks:\n",
            "+--------+----------+--------+\n",
            "|store_id|product_id|quantity|\n",
            "+--------+----------+--------+\n",
            "|       1|         1|      27|\n",
            "|       1|         2|       5|\n",
            "|       1|         3|       6|\n",
            "|       1|         4|      23|\n",
            "|       1|         5|      22|\n",
            "+--------+----------+--------+\n",
            "only showing top 5 rows\n",
            "\n",
            "\n",
            "Preview of stores:\n",
            "+--------+----------------+--------------+--------------------+-------------------+----------+-----+--------+\n",
            "|store_id|      store_name|         phone|               email|             street|      city|state|zip_code|\n",
            "+--------+----------------+--------------+--------------------+-------------------+----------+-----+--------+\n",
            "|       1|Santa Cruz Bikes|(831) 476-4321|santacruz@bikes.shop| 3700 Portola Drive|Santa Cruz|   CA|   95060|\n",
            "|       2|   Baldwin Bikes|(516) 379-8888|  baldwin@bikes.shop| 4200 Chestnut Lane|   Baldwin|   NY|   11432|\n",
            "|       3|   Rowlett Bikes|(972) 530-5555|  rowlett@bikes.shop|8000 Fairway Avenue|   Rowlett|   TX|   75088|\n",
            "+--------+----------------+--------------+--------------------+-------------------+----------+-----+--------+\n",
            "\n"
          ]
        }
      ],
      "source": [
        "# Список файлов для импорта и их соответствующих переменных\n",
        "files = {\n",
        "    \"products\": \"products.csv\",\n",
        "    \"brands\": \"brands.csv\",\n",
        "    \"categories\": \"categories.csv\",\n",
        "    \"customers\": \"customers.csv\",\n",
        "    \"order_items\": \"order_items.csv\",\n",
        "    \"orders\": \"orders.csv\",\n",
        "    \"staffs\": \"staffs.csv\",\n",
        "    \"stocks\": \"stocks.csv\",\n",
        "    \"stores\": \"stores.csv\"\n",
        "}\n",
        "\n",
        "# Словарь для хранения DataFrame\n",
        "dataframes = {}\n",
        "\n",
        "# Импорт данных из каждого файла\n",
        "for table_name, file_path in files.items():\n",
        "    print(f\"Loading data from {file_path} into table {table_name}...\")\n",
        "    try:\n",
        "        # Чтение CSV в DataFrame\n",
        "        df = spark.read.csv(file_path, header=True, inferSchema=True)\n",
        "        dataframes[table_name] = df\n",
        "        print(f\"Data from {file_path} successfully loaded into table {table_name}.\")\n",
        "    except Exception as e:\n",
        "        print(f\"Error loading {file_path}: {e}\")\n",
        "\n",
        "# Пример вывода данных для проверки\n",
        "for table_name, df in dataframes.items():\n",
        "    print(f\"\\nPreview of {table_name}:\")\n",
        "    df.show(5)"
      ]
    },
    {
      "cell_type": "markdown",
      "id": "02719647",
      "metadata": {
        "id": "02719647"
      },
      "source": [
        "## Запросы с использованием PySpark"
      ]
    },
    {
      "cell_type": "code",
      "execution_count": 7,
      "id": "aac4d6ed",
      "metadata": {
        "id": "aac4d6ed"
      },
      "outputs": [],
      "source": [
        "# Регистрация DataFrame как временных таблиц\n",
        "for table_name, df in dataframes.items():\n",
        "    df.createOrReplaceTempView(table_name)"
      ]
    },
    {
      "cell_type": "markdown",
      "id": "2NFLHqEWK_TK",
      "metadata": {
        "id": "2NFLHqEWK_TK"
      },
      "source": [
        "### 1. Расчёт общего объёма продаж по каждому продукту"
      ]
    },
    {
      "cell_type": "code",
      "execution_count": 8,
      "id": "0qMMCYdlInJN",
      "metadata": {
        "colab": {
          "base_uri": "https://localhost:8080/"
        },
        "id": "0qMMCYdlInJN",
        "outputId": "a9af4db3-47f5-4050-b8a5-8ba389e1b383"
      },
      "outputs": [
        {
          "name": "stdout",
          "output_type": "stream",
          "text": [
            "Общий объём продаж по каждому продукту:\n",
            "+--------------------+------------------+\n",
            "|        product_name|       total_sales|\n",
            "+--------------------+------------------+\n",
            "|Trek Slash 8 27.5...| 555558.6111000001|\n",
            "|Trek Conduit+ - 2016| 389248.7025000002|\n",
            "|Trek Fuel EX 8 29...|368472.72939999995|\n",
            "|Surly Straggler 6...| 226765.5509999999|\n",
            "|Trek Domane SLR 6...|211584.61529999998|\n",
            "|Surly Straggler -...|203507.62000000026|\n",
            "|Trek Remedy 29 Ca...|203380.87009999997|\n",
            "|Trek Powerfly 8 F...|188249.62349999996|\n",
            "|Trek Madone 9.2 -...|175899.64819999994|\n",
            "|Trek Silque SLR 8...|174524.73150000002|\n",
            "|Trek Silque SLR 7...|163079.72819999995|\n",
            "|Trek Fuel EX 9.8 ...|159052.69989999998|\n",
            "|Electra Townie Or...|155169.41379999986|\n",
            "|Heller Shagamaw F...|151160.88569999996|\n",
            "|Trek Fuel EX 9.8 ...|       147449.7051|\n",
            "|Electra Townie Or...|143393.39279999989|\n",
            "| Trek Boone 7 - 2017|127609.63539999998|\n",
            "|Trek Domane SL 6 ...|113644.67529999999|\n",
            "|Surly Wednesday F...|112288.87709999991|\n",
            "|Trek Remedy 9.8 -...|105469.80099999999|\n",
            "+--------------------+------------------+\n",
            "only showing top 20 rows\n",
            "\n"
          ]
        }
      ],
      "source": [
        "query1 = \"\"\"\n",
        "SELECT\n",
        "    p.product_name,\n",
        "    SUM(oi.quantity * (oi.list_price - (oi.list_price * oi.discount))) AS total_sales\n",
        "FROM order_items oi\n",
        "JOIN products p ON oi.product_id = p.product_id\n",
        "GROUP BY p.product_name\n",
        "ORDER BY total_sales DESC\n",
        "\"\"\"\n",
        "result1 = spark.sql(query1)\n",
        "print(\"Общий объём продаж по каждому продукту:\")\n",
        "result1.show()"
      ]
    },
    {
      "cell_type": "markdown",
      "id": "RnnNL0SPLKcd",
      "metadata": {
        "id": "RnnNL0SPLKcd"
      },
      "source": [
        "### 2. Расчёт количества заказов по каждому статусу заказа"
      ]
    },
    {
      "cell_type": "code",
      "execution_count": 9,
      "id": "TTzinsS-LN3x",
      "metadata": {
        "colab": {
          "base_uri": "https://localhost:8080/"
        },
        "id": "TTzinsS-LN3x",
        "outputId": "02fa09ff-94b8-4303-d6f5-6265b4e4c8fe"
      },
      "outputs": [
        {
          "name": "stdout",
          "output_type": "stream",
          "text": [
            "Количество заказов по каждому статусу:\n",
            "+------------+-----------+\n",
            "|order_status|order_count|\n",
            "+------------+-----------+\n",
            "|           4|       1445|\n",
            "|           2|         63|\n",
            "|           1|         62|\n",
            "|           3|         45|\n",
            "+------------+-----------+\n",
            "\n"
          ]
        }
      ],
      "source": [
        "query2 = \"\"\"\n",
        "SELECT\n",
        "    o.order_status,\n",
        "    COUNT(*) AS order_count\n",
        "FROM orders o\n",
        "GROUP BY o.order_status\n",
        "ORDER BY order_count DESC\n",
        "\"\"\"\n",
        "result2 = spark.sql(query2)\n",
        "print(\"Количество заказов по каждому статусу:\")\n",
        "result2.show()"
      ]
    },
    {
      "cell_type": "markdown",
      "id": "PPfIAuPKLQY8",
      "metadata": {
        "id": "PPfIAuPKLQY8"
      },
      "source": [
        "### 3. Расчёт общей суммы продаж за каждый месяц"
      ]
    },
    {
      "cell_type": "code",
      "execution_count": 10,
      "id": "VhEGP8ifLTVL",
      "metadata": {
        "colab": {
          "base_uri": "https://localhost:8080/"
        },
        "id": "VhEGP8ifLTVL",
        "outputId": "0a1c7175-390c-4a22-bc33-212c62e51471"
      },
      "outputs": [
        {
          "name": "stdout",
          "output_type": "stream",
          "text": [
            "Общая сумма продаж за каждый месяц:\n",
            "+----+-----+-------------------+\n",
            "|year|month|total_monthly_sales|\n",
            "+----+-----+-------------------+\n",
            "|2016|    1| 215146.42409999995|\n",
            "|2016|    2|        156112.3228|\n",
            "|2016|    3|        180600.3285|\n",
            "|2016|    4|        167144.0512|\n",
            "|2016|    5|        205270.0091|\n",
            "|2016|    6| 210562.12449999992|\n",
            "|2016|    7| 199556.80889999992|\n",
            "|2016|    8| 225657.37669999994|\n",
            "|2016|    9|  273091.6097000001|\n",
            "|2016|   10| 212078.08050000007|\n",
            "|2016|   11| 182329.41239999997|\n",
            "|2016|   12| 199829.97919999994|\n",
            "|2017|    1| 285616.48399999994|\n",
            "|2017|    2|  312923.7470000001|\n",
            "|2017|    3|  308911.9018000001|\n",
            "|2017|    4| 227290.91309999992|\n",
            "|2017|    5| 268233.23789999995|\n",
            "|2017|    6| 378865.65350000025|\n",
            "|2017|    7| 229995.39789999998|\n",
            "|2017|    8| 290553.45540000015|\n",
            "+----+-----+-------------------+\n",
            "only showing top 20 rows\n",
            "\n"
          ]
        }
      ],
      "source": [
        "query3 = \"\"\"\n",
        "SELECT\n",
        "    YEAR(o.order_date) AS year,\n",
        "    MONTH(o.order_date) AS month,\n",
        "    SUM(oi.quantity * (oi.list_price - (oi.list_price * oi.discount))) AS total_monthly_sales\n",
        "FROM orders o\n",
        "JOIN order_items oi ON o.order_id = oi.order_id\n",
        "GROUP BY YEAR(o.order_date), MONTH(o.order_date)\n",
        "ORDER BY year, month\n",
        "\"\"\"\n",
        "result3 = spark.sql(query3)\n",
        "print(\"Общая сумма продаж за каждый месяц:\")\n",
        "result3.show()"
      ]
    },
    {
      "cell_type": "markdown",
      "id": "7MoEQa3aLXnJ",
      "metadata": {
        "id": "7MoEQa3aLXnJ"
      },
      "source": [
        "### 4. Топ-5 клиентов, которые потратили больше всего денег"
      ]
    },
    {
      "cell_type": "code",
      "execution_count": 11,
      "id": "UCj9VnNmLYd2",
      "metadata": {
        "colab": {
          "base_uri": "https://localhost:8080/"
        },
        "id": "UCj9VnNmLYd2",
        "outputId": "1b94838c-b00f-4315-cea4-6119f2d21e8c"
      },
      "outputs": [
        {
          "name": "stdout",
          "output_type": "stream",
          "text": [
            "Топ-5 клиентов, которые потратили больше всего денег:\n",
            "+-----------+--------------+------------------+\n",
            "|customer_id| customer_name|       total_spent|\n",
            "+-----------+--------------+------------------+\n",
            "|         94|Sharyn Hopkins|        34807.9392|\n",
            "|         10|Pamelia Newman|        33634.2604|\n",
            "|         75|   Abby Gamble|        32803.0062|\n",
            "|          6|  Lyndsey Bean|32675.072499999995|\n",
            "|         16|Emmitt Sanchez|31925.885699999995|\n",
            "+-----------+--------------+------------------+\n",
            "\n"
          ]
        }
      ],
      "source": [
        "query4 = \"\"\"\n",
        "SELECT\n",
        "    c.customer_id,\n",
        "    CONCAT(c.first_name, ' ', c.last_name) AS customer_name,\n",
        "    SUM(oi.quantity * (oi.list_price - (oi.list_price * oi.discount))) AS total_spent\n",
        "FROM customers c\n",
        "JOIN orders o ON c.customer_id = o.customer_id\n",
        "JOIN order_items oi ON o.order_id = oi.order_id\n",
        "GROUP BY c.customer_id, c.first_name, c.last_name\n",
        "ORDER BY total_spent DESC\n",
        "LIMIT 5\n",
        "\"\"\"\n",
        "result4 = spark.sql(query4)\n",
        "print(\"Топ-5 клиентов, которые потратили больше всего денег:\")\n",
        "result4.show()"
      ]
    }
  ],
  "metadata": {
    "colab": {
      "provenance": []
    },
    "kernelspec": {
      "display_name": "venv",
      "language": "python",
      "name": "python3"
    },
    "language_info": {
      "name": "python",
      "version": "3.12.7"
    }
  },
  "nbformat": 4,
  "nbformat_minor": 5
}
