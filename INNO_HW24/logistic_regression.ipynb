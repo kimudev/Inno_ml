{
 "cells": [
  {
   "cell_type": "markdown",
   "id": "f7594a31",
   "metadata": {},
   "source": [
    "# Домашнее задание: Логистическая регрессия"
   ]
  },
  {
   "cell_type": "markdown",
   "id": "d6ae7cef",
   "metadata": {},
   "source": [
    "## 1. Загрузка данных и предварительная обработка"
   ]
  },
  {
   "cell_type": "code",
   "execution_count": 1,
   "id": "22fd5839",
   "metadata": {},
   "outputs": [
    {
     "name": "stdout",
     "output_type": "stream",
     "text": [
      "Train dataset:\n",
      "<class 'pandas.core.frame.DataFrame'>\n",
      "RangeIndex: 38984 entries, 0 to 38983\n",
      "Data columns (total 23 columns):\n",
      " #   Column               Non-Null Count  Dtype  \n",
      "---  ------               --------------  -----  \n",
      " 0   age                  38984 non-null  int64  \n",
      " 1   height(cm)           38984 non-null  int64  \n",
      " 2   weight(kg)           38984 non-null  int64  \n",
      " 3   waist(cm)            38984 non-null  float64\n",
      " 4   eyesight(left)       38984 non-null  float64\n",
      " 5   eyesight(right)      38984 non-null  float64\n",
      " 6   hearing(left)        38984 non-null  int64  \n",
      " 7   hearing(right)       38984 non-null  int64  \n",
      " 8   systolic             38984 non-null  int64  \n",
      " 9   relaxation           38984 non-null  int64  \n",
      " 10  fasting blood sugar  38984 non-null  int64  \n",
      " 11  Cholesterol          38984 non-null  int64  \n",
      " 12  triglyceride         38984 non-null  int64  \n",
      " 13  HDL                  38984 non-null  int64  \n",
      " 14  LDL                  38984 non-null  int64  \n",
      " 15  hemoglobin           38984 non-null  float64\n",
      " 16  Urine protein        38984 non-null  int64  \n",
      " 17  serum creatinine     38984 non-null  float64\n",
      " 18  AST                  38984 non-null  int64  \n",
      " 19  ALT                  38984 non-null  int64  \n",
      " 20  Gtp                  38984 non-null  int64  \n",
      " 21  dental caries        38984 non-null  int64  \n",
      " 22  smoking              38984 non-null  int64  \n",
      "dtypes: float64(5), int64(18)\n",
      "memory usage: 6.8 MB\n",
      "None\n",
      "   age  height(cm)  weight(kg)  waist(cm)  eyesight(left)  eyesight(right)  \\\n",
      "0   35         170          85       97.0             0.9              0.9   \n",
      "1   20         175         110      110.0             0.7              0.9   \n",
      "2   45         155          65       86.0             0.9              0.9   \n",
      "3   45         165          80       94.0             0.8              0.7   \n",
      "4   20         165          60       81.0             1.5              0.1   \n",
      "\n",
      "   hearing(left)  hearing(right)  systolic  relaxation  ...  HDL  LDL  \\\n",
      "0              1               1       118          78  ...   70  142   \n",
      "1              1               1       119          79  ...   71  114   \n",
      "2              1               1       110          80  ...   57  112   \n",
      "3              1               1       158          88  ...   46   91   \n",
      "4              1               1       109          64  ...   47   92   \n",
      "\n",
      "   hemoglobin  Urine protein  serum creatinine   AST   ALT  Gtp  \\\n",
      "0        19.8              1               1.0    61   115  125   \n",
      "1        15.9              1               1.1    19    25   30   \n",
      "2        13.7              3               0.6  1090  1400  276   \n",
      "3        16.9              1               0.9    32    36   36   \n",
      "4        14.9              1               1.2    26    28   15   \n",
      "\n",
      "   dental caries  smoking  \n",
      "0              1        1  \n",
      "1              1        0  \n",
      "2              0        0  \n",
      "3              0        0  \n",
      "4              0        0  \n",
      "\n",
      "[5 rows x 23 columns]\n",
      "\n",
      "Test dataset:\n",
      "<class 'pandas.core.frame.DataFrame'>\n",
      "RangeIndex: 16708 entries, 0 to 16707\n",
      "Data columns (total 22 columns):\n",
      " #   Column               Non-Null Count  Dtype  \n",
      "---  ------               --------------  -----  \n",
      " 0   age                  16708 non-null  int64  \n",
      " 1   height(cm)           16708 non-null  int64  \n",
      " 2   weight(kg)           16708 non-null  int64  \n",
      " 3   waist(cm)            16708 non-null  float64\n",
      " 4   eyesight(left)       16708 non-null  float64\n",
      " 5   eyesight(right)      16708 non-null  float64\n",
      " 6   hearing(left)        16708 non-null  int64  \n",
      " 7   hearing(right)       16708 non-null  int64  \n",
      " 8   systolic             16708 non-null  int64  \n",
      " 9   relaxation           16708 non-null  int64  \n",
      " 10  fasting blood sugar  16708 non-null  int64  \n",
      " 11  Cholesterol          16708 non-null  int64  \n",
      " 12  triglyceride         16708 non-null  int64  \n",
      " 13  HDL                  16708 non-null  int64  \n",
      " 14  LDL                  16708 non-null  int64  \n",
      " 15  hemoglobin           16708 non-null  float64\n",
      " 16  Urine protein        16708 non-null  int64  \n",
      " 17  serum creatinine     16708 non-null  float64\n",
      " 18  AST                  16708 non-null  int64  \n",
      " 19  ALT                  16708 non-null  int64  \n",
      " 20  Gtp                  16708 non-null  int64  \n",
      " 21  dental caries        16708 non-null  int64  \n",
      "dtypes: float64(5), int64(17)\n",
      "memory usage: 2.8 MB\n",
      "None\n",
      "   age  height(cm)  weight(kg)  waist(cm)  eyesight(left)  eyesight(right)  \\\n",
      "0   40         170          65       75.1             1.0              0.9   \n",
      "1   45         170          75       89.0             0.7              1.2   \n",
      "2   30         180          90       94.0             1.0              0.8   \n",
      "3   60         170          50       73.0             0.5              0.7   \n",
      "4   30         170          65       78.0             1.5              1.0   \n",
      "\n",
      "   hearing(left)  hearing(right)  systolic  relaxation  ...  triglyceride  \\\n",
      "0              1               1       120          70  ...           260   \n",
      "1              1               1       100          67  ...           345   \n",
      "2              1               1       115          72  ...           103   \n",
      "3              1               1       118          78  ...            70   \n",
      "4              1               1       110          70  ...           210   \n",
      "\n",
      "   HDL  LDL  hemoglobin  Urine protein  serum creatinine  AST  ALT  Gtp  \\\n",
      "0   41  132        15.7              1               0.8   24   26   32   \n",
      "1   49  140        15.7              1               1.1   26   28  138   \n",
      "2   53  103        13.5              1               1.0   19   29   30   \n",
      "3   65  108        14.1              1               1.3   31   28   33   \n",
      "4   45  103        14.7              1               0.8   21   21   19   \n",
      "\n",
      "   dental caries  \n",
      "0              0  \n",
      "1              0  \n",
      "2              0  \n",
      "3              0  \n",
      "4              0  \n",
      "\n",
      "[5 rows x 22 columns]\n"
     ]
    }
   ],
   "source": [
    "\n",
    "import pandas as pd\n",
    "import numpy as np\n",
    "import matplotlib.pyplot as plt\n",
    "import seaborn as sns\n",
    "from sklearn.model_selection import train_test_split\n",
    "from sklearn.preprocessing import StandardScaler\n",
    "from sklearn.impute import SimpleImputer\n",
    "\n",
    "# Загрузка данных\n",
    "train_df = pd.read_csv(\"train_dataset.csv\")\n",
    "test_df = pd.read_csv(\"test_dataset.csv\")\n",
    "\n",
    "# Обзор данных\n",
    "print(\"Train dataset:\")\n",
    "print(train_df.info())\n",
    "print(train_df.head())\n",
    "\n",
    "print(\"\\nTest dataset:\")\n",
    "print(test_df.info())\n",
    "print(test_df.head())\n",
    "\n",
    "# Удаление целевой переменной 'smoking' из train (она отсутствует в test)\n",
    "y_train = train_df[\"smoking\"]\n",
    "X_train = train_df.drop(columns=[\"smoking\"])\n",
    "\n",
    "# Заполнение пропущенных значений (медианами)\n",
    "imputer = SimpleImputer(strategy=\"median\")\n",
    "X_train = imputer.fit_transform(X_train)\n",
    "X_test = imputer.transform(test_df)  # Test не содержит целевой переменной\n",
    "\n",
    "# Нормализация данных\n",
    "scaler = StandardScaler()\n",
    "X_train = scaler.fit_transform(X_train)\n",
    "X_test = scaler.transform(X_test)\n"
   ]
  },
  {
   "cell_type": "markdown",
   "id": "18dd5d8f",
   "metadata": {},
   "source": [
    "## 2. Обучение модели логистической регрессии"
   ]
  },
  {
   "cell_type": "code",
   "execution_count": 2,
   "id": "ccdf01e3",
   "metadata": {},
   "outputs": [
    {
     "name": "stdout",
     "output_type": "stream",
     "text": [
      "Solver=lbfgs, Penalty=l2, C=0.1, Accuracy=0.7240\n",
      "Solver=lbfgs, Penalty=l2, C=1, Accuracy=0.7240\n",
      "Solver=lbfgs, Penalty=l2, C=10, Accuracy=0.7240\n",
      "Solver=liblinear, Penalty=l2, C=0.1, Accuracy=0.7240\n",
      "Solver=liblinear, Penalty=l2, C=1, Accuracy=0.7240\n",
      "Solver=liblinear, Penalty=l2, C=10, Accuracy=0.7240\n"
     ]
    }
   ],
   "source": [
    "\n",
    "from sklearn.linear_model import LogisticRegression\n",
    "\n",
    "# Подбор гиперпараметров\n",
    "solver_options = [\"lbfgs\", \"liblinear\"]\n",
    "penalty_options = [\"l2\"]\n",
    "C_values = [0.1, 1, 10]\n",
    "\n",
    "best_model = None\n",
    "best_score = 0\n",
    "\n",
    "for solver in solver_options:\n",
    "    for penalty in penalty_options:\n",
    "        for C in C_values:\n",
    "            model = LogisticRegression(solver=solver, penalty=penalty, C=C, max_iter=1000, random_state=42)\n",
    "            model.fit(X_train, y_train)\n",
    "            score = model.score(X_train, y_train)  # Оценка только по train\n",
    "            print(f\"Solver={solver}, Penalty={penalty}, C={C}, Accuracy={score:.4f}\")\n",
    "            \n",
    "            if score > best_score:\n",
    "                best_score = score\n",
    "                best_model = model\n"
   ]
  },
  {
   "cell_type": "markdown",
   "id": "dd794ec6",
   "metadata": {},
   "source": [
    "## 3. Оценка качества модели"
   ]
  },
  {
   "cell_type": "code",
   "execution_count": 3,
   "id": "93119da8",
   "metadata": {},
   "outputs": [
    {
     "name": "stdout",
     "output_type": "stream",
     "text": [
      "Accuracy: 0.7240\n",
      "Precision: 0.6402\n",
      "Recall: 0.5676\n",
      "F1-score: 0.6017\n",
      "ROC AUC: 0.8077\n"
     ]
    },
    {
     "data": {
      "image/png": "[encoded data removed]",
      "text/plain": [
       "<Figure size 600x400 with 2 Axes>"
      ]
     },
     "metadata": {},
     "output_type": "display_data"
    }
   ],
   "source": [
    "\n",
    "from sklearn.metrics import confusion_matrix, accuracy_score, precision_score, recall_score, f1_score, roc_auc_score\n",
    "\n",
    "# Предсказание на train-данных\n",
    "y_pred = best_model.predict(X_train)\n",
    "\n",
    "# Метрики качества\n",
    "conf_matrix = confusion_matrix(y_train, y_pred)\n",
    "accuracy = accuracy_score(y_train, y_pred)\n",
    "precision = precision_score(y_train, y_pred)\n",
    "recall = recall_score(y_train, y_pred)\n",
    "f1 = f1_score(y_train, y_pred)\n",
    "roc_auc = roc_auc_score(y_train, best_model.predict_proba(X_train)[:, 1])\n",
    "\n",
    "# Вывод результатов\n",
    "print(f\"Accuracy: {accuracy:.4f}\")\n",
    "print(f\"Precision: {precision:.4f}\")\n",
    "print(f\"Recall: {recall:.4f}\")\n",
    "print(f\"F1-score: {f1:.4f}\")\n",
    "print(f\"ROC AUC: {roc_auc:.4f}\")\n",
    "\n",
    "# Визуализация матрицы ошибок\n",
    "plt.figure(figsize=(6, 4))\n",
    "sns.heatmap(conf_matrix, annot=True, fmt=\"d\", cmap=\"Blues\", xticklabels=[\"Non-Smoker\", \"Smoker\"], yticklabels=[\"Non-Smoker\", \"Smoker\"])\n",
    "plt.xlabel(\"Predicted Label\")\n",
    "plt.ylabel(\"True Label\")\n",
    "plt.title(\"Confusion Matrix\")\n",
    "plt.show()\n"
   ]
  },
  {
   "cell_type": "markdown",
   "id": "7c9cae6d",
   "metadata": {},
   "source": [
    "## 4. Предсказания на тестовых данных"
   ]
  },
  {
   "cell_type": "code",
   "execution_count": 4,
   "id": "15eece49",
   "metadata": {},
   "outputs": [
    {
     "name": "stdout",
     "output_type": "stream",
     "text": [
      "Предсказания на тестовых данных сохранены в 'test_predictions.csv'\n"
     ]
    }
   ],
   "source": [
    "\n",
    "# Предсказание на тестовых данных (без вычисления метрик)\n",
    "y_test_pred = best_model.predict(X_test)\n",
    "\n",
    "# Сохранение предсказаний\n",
    "test_predictions = pd.DataFrame({\"Prediction\": y_test_pred})\n",
    "test_predictions.to_csv(\"test_predictions.csv\", index=False)\n",
    "print(\"Предсказания на тестовых данных сохранены в 'test_predictions.csv'\")\n"
   ]
  },
  {
   "cell_type": "markdown",
   "id": "a4fb97e7",
   "metadata": {},
   "source": [
    "## 5. Сохранение модели"
   ]
  },
  {
   "cell_type": "code",
   "execution_count": 5,
   "id": "7557cc80",
   "metadata": {},
   "outputs": [
    {
     "data": {
      "text/plain": [
       "['logistic_regression_model.joblib']"
      ]
     },
     "execution_count": 5,
     "metadata": {},
     "output_type": "execute_result"
    }
   ],
   "source": [
    "\n",
    "import joblib\n",
    "\n",
    "# Сохранение лучшей модели\n",
    "joblib.dump(best_model, \"logistic_regression_model.joblib\")\n"
   ]
  }
 ],
 "metadata": {
  "kernelspec": {
   "display_name": "venv",
   "language": "python",
   "name": "python3"
  },
  "language_info": {
   "codemirror_mode": {
    "name": "ipython",
    "version": 3
   },
   "file_extension": ".py",
   "mimetype": "text/x-python",
   "name": "python",
   "nbconvert_exporter": "python",
   "pygments_lexer": "ipython3",
   "version": "3.12.7"
  }
 },
 "nbformat": 4,
 "nbformat_minor": 5
}
