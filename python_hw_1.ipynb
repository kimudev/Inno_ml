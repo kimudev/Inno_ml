{
 "cells": [
  {
   "cell_type": "markdown",
   "metadata": {},
   "source": [
    "**Задание 1**"
   ]
  },
  {
   "cell_type": "code",
   "execution_count": 39,
   "metadata": {},
   "outputs": [
    {
     "name": "stdout",
     "output_type": "stream",
     "text": [
      "[8, 2, 14]\n",
      "max: 14\n",
      "min: 2\n",
      "etc: 8\n"
     ]
    }
   ],
   "source": [
    "num1 = int(input('Введите первое число: '))\n",
    "num2 = int(input('Введите второе число: '))\n",
    "num3 = int(input('Введите третье число: '))\n",
    "\n",
    "numbers = [num1, num2, num3]\n",
    "print(numbers)\n",
    "numbers.sort()\n",
    "\n",
    "print(f'max: {numbers[2]}\\nmin: {numbers[0]}\\netc: {numbers[1]}')\n"
   ]
  },
  {
   "cell_type": "code",
   "execution_count": 40,
   "metadata": {},
   "outputs": [
    {
     "name": "stdout",
     "output_type": "stream",
     "text": [
      "[23, 23, 21]\n",
      "max: 23\n",
      "min: 21\n",
      "etc: 23\n"
     ]
    }
   ],
   "source": [
    "num1 = int(input('Введите первое число: '))\n",
    "num2 = int(input('Введите второе число: '))\n",
    "num3 = int(input('Введите третье число: '))\n",
    "\n",
    "numbers = [num1, num2, num3]\n",
    "print(numbers)\n",
    "numbers.sort()\n",
    "\n",
    "print(f'max: {numbers[2]}\\nmin: {numbers[0]}\\netc: {numbers[1]}')"
   ]
  },
  {
   "cell_type": "markdown",
   "metadata": {},
   "source": [
    "**Задание 2**"
   ]
  },
  {
   "cell_type": "code",
   "execution_count": 37,
   "metadata": {},
   "outputs": [
    {
     "name": "stdout",
     "output_type": "stream",
     "text": [
      "090234\n",
      "Счастливый\n"
     ]
    }
   ],
   "source": [
    "bilet = str(input('Введите билет: '))\n",
    "print(bilet)\n",
    "bilet_list = [int(digit) for digit in bilet]\n",
    "\n",
    "if sum(bilet_list[:3]) == sum(bilet_list[3:]): \n",
    "    print('Счастливый')\n",
    "else:\n",
    "    print('Обычный')"
   ]
  },
  {
   "cell_type": "code",
   "execution_count": 38,
   "metadata": {},
   "outputs": [
    {
     "name": "stdout",
     "output_type": "stream",
     "text": [
      "123456\n",
      "Обычный\n"
     ]
    }
   ],
   "source": [
    "bilet = str(input('Введите билет: '))\n",
    "print(bilet)\n",
    "bilet_list = [int(digit) for digit in bilet]\n",
    "\n",
    "if sum(bilet_list[:3]) == sum(bilet_list[3:]): \n",
    "    print('Счастливый')\n",
    "else:\n",
    "    print('Обычный')"
   ]
  }
 ],
 "metadata": {
  "kernelspec": {
   "display_name": "Python 3",
   "language": "python",
   "name": "python3"
  },
  "language_info": {
   "codemirror_mode": {
    "name": "ipython",
    "version": 3
   },
   "file_extension": ".py",
   "mimetype": "text/x-python",
   "name": "python",
   "nbconvert_exporter": "python",
   "pygments_lexer": "ipython3",
   "version": "3.13.0"
  }
 },
 "nbformat": 4,
 "nbformat_minor": 2
}
